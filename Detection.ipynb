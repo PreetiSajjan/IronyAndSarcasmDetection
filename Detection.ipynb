{
 "cells": [
  {
   "cell_type": "code",
   "execution_count": 57,
   "metadata": {},
   "outputs": [
    {
     "name": "stdout",
     "output_type": "stream",
     "text": [
      "            Label                                         Tweet text\n",
      "Tweet index                                                         \n",
      "1               1  Sweet United Nations video. Just in time for C...\n",
      "2               1  @mrdahl87 We are rumored to have talked to Erv...\n",
      "3               1  Hey there! Nice to see you Minnesota/ND Winter...\n",
      "4               0                3 episodes left I'm dying over here\n",
      "5               1  I can't breathe! was chosen as the most notabl...\n"
     ]
    }
   ],
   "source": [
    "#Task 1\n",
    "#Reading the data\n",
    "import pandas as pd\n",
    "dataset=pd.read_csv(\"assignment.txt\", delimiter=\"\\t\", names = [\"Tweet index\", \"Label\", \"Tweet text\"])\n",
    "dataset = dataset.set_index(\"Tweet index\")\n",
    "df = dataset.drop(dataset.index[0])\n",
    "print(df.head())\n",
    "X,Y = df.iloc[:,-1].values, df.iloc[:,0].values\n"
   ]
  },
  {
   "cell_type": "code",
   "execution_count": 60,
   "metadata": {},
   "outputs": [
    {
     "data": {
      "text/plain": [
       "array(['sweet united nations video just in time for christmas imagine noreligion http t co fej2v3oubr',\n",
       "       ' mrdahl87 we are rumored to have talked to erv s agent and the angels asked about ed escobar that s hardly nothing ',\n",
       "       'hey there nice to see you minnesota nd winter weather ', ...,\n",
       "       'well now that i ve listened to all of into the woods i m going to listen to some fob nosurprisethere',\n",
       "       'hummingbirds are experts at hovering after all background motion if the hovering ability of the http t co e189ihbpzr',\n",
       "       'only thing missing now is a session at the gym want to do every body part though and cv possible'],\n",
       "      dtype=object)"
      ]
     },
     "execution_count": 60,
     "metadata": {},
     "output_type": "execute_result"
    }
   ],
   "source": [
    "import nltk\n",
    "import re\n",
    "for i in range(len(X)):\n",
    "    X[i] = X[i].lower()\n",
    "    X[i] = re.sub(r'\\W', ' ', X[i]) #removing whitespace\n",
    "    X[i] = re.sub(r'\\s+', ' ', X[i]) #removing punchuations\n",
    "X"
   ]
  },
  {
   "cell_type": "code",
   "execution_count": 72,
   "metadata": {},
   "outputs": [
    {
     "name": "stderr",
     "output_type": "stream",
     "text": [
      "[nltk_data] Downloading package stopwords to\n",
      "[nltk_data]     C:\\Users\\User\\AppData\\Roaming\\nltk_data...\n",
      "[nltk_data]   Package stopwords is already up-to-date!\n"
     ]
    },
    {
     "name": "stdout",
     "output_type": "stream",
     "text": [
      "12624\n"
     ]
    }
   ],
   "source": [
    "from nltk.corpus import stopwords\n",
    "nltk.download('stopwords')\n",
    "stop_words = stopwords.words('english')\n",
    "\n",
    "wordfreq = {}\n",
    "for sentence in X:\n",
    "    tokens = nltk.word_tokenize(sentence) #tokenising the sentences\n",
    "    tokens = [word for word in tokens if word not in stop_words] #removing the stop words #if not 12768 or 12624\n",
    "    for token in tokens:\n",
    "        if token not in wordfreq.keys():\n",
    "            wordfreq[token] = 1\n",
    "        else:\n",
    "            wordfreq[token] += 1\n",
    "print(len(wordfreq))"
   ]
  },
  {
   "cell_type": "code",
   "execution_count": 78,
   "metadata": {},
   "outputs": [
    {
     "data": {
      "text/html": [
       "<div>\n",
       "<style scoped>\n",
       "    .dataframe tbody tr th:only-of-type {\n",
       "        vertical-align: middle;\n",
       "    }\n",
       "\n",
       "    .dataframe tbody tr th {\n",
       "        vertical-align: top;\n",
       "    }\n",
       "\n",
       "    .dataframe thead th {\n",
       "        text-align: right;\n",
       "    }\n",
       "</style>\n",
       "<table border=\"1\" class=\"dataframe\">\n",
       "  <thead>\n",
       "    <tr style=\"text-align: right;\">\n",
       "      <th></th>\n",
       "      <th>Tweet text</th>\n",
       "    </tr>\n",
       "    <tr>\n",
       "      <th>Label</th>\n",
       "      <th></th>\n",
       "    </tr>\n",
       "  </thead>\n",
       "  <tbody>\n",
       "    <tr>\n",
       "      <th>0</th>\n",
       "      <td>1916</td>\n",
       "    </tr>\n",
       "    <tr>\n",
       "      <th>1</th>\n",
       "      <td>1901</td>\n",
       "    </tr>\n",
       "  </tbody>\n",
       "</table>\n",
       "</div>"
      ],
      "text/plain": [
       "       Tweet text\n",
       "Label            \n",
       "0            1916\n",
       "1            1901"
      ]
     },
     "execution_count": 78,
     "metadata": {},
     "output_type": "execute_result"
    }
   ],
   "source": [
    "df.groupby('Label').count()"
   ]
  },
  {
   "cell_type": "code",
   "execution_count": 82,
   "metadata": {},
   "outputs": [
    {
     "name": "stdout",
     "output_type": "stream",
     "text": [
      "(2544,) (1273,) (2544,) (1273,)\n"
     ]
    }
   ],
   "source": [
    "from sklearn.model_selection import train_test_split\n",
    "X_train, X_test, Y_train, Y_test = train_test_split(X, Y, train_size = 2/3, shuffle = True)\n",
    "print(X_train.shape, X_test.shape, Y_train.shape, Y_test.shape)"
   ]
  },
  {
   "cell_type": "code",
   "execution_count": 89,
   "metadata": {},
   "outputs": [
    {
     "name": "stdout",
     "output_type": "stream",
     "text": [
      "0.6 0.5 0.5 0.5\n"
     ]
    }
   ],
   "source": [
    "def evaluation(predicted, actual):\n",
    "    true_pos, true_neg, false_pos, false_neg = 0, 0, 0, 0\n",
    "    for p,g in zip(predicted, actual):\n",
    "        if p==1 and g==1:\n",
    "            true_pos+=1\n",
    "        if p==0 and g==0:\n",
    "            true_neg+=1\n",
    "        if p==1 and g==0:\n",
    "            false_pos+=1\n",
    "        if p==0 and g==1:\n",
    "            false_neg+=1\n",
    "        \n",
    "    precision = true_pos / float(true_pos + false_pos)\n",
    "    recall = true_pos / float(true_pos + false_neg)\n",
    "    f1_score = 2*precision*recall / (precision + recall)\n",
    "    accuracy = (true_pos + true_neg) / float(len(actual))\n",
    "    \n",
    "    return accuracy, precision, recall, f1_score\n",
    "\n",
    "#a,p,r,f = evaluation([1,0,0,1,0], [1,1,0,0,0])\n",
    "#print(a, p, r, f)"
   ]
  },
  {
   "cell_type": "code",
   "execution_count": 90,
   "metadata": {},
   "outputs": [],
   "source": [
    "#log linear function\n",
    "def sigmoid(X, weight):\n",
    "    z = np.dot(X, weight)\n",
    "    return 1 / (1 + np.exp(-z))\n",
    "\n",
    "def loss(h, y):\n",
    "    return (-y * np.log(h) - (1 - y) * np.log(1 - h)).mean()\n",
    "\n",
    "def gradient_descent(X, h, y):\n",
    "    return np.dot(X.T, (h - y)) / y.shape[0]\n",
    "\n",
    "def update_weight_loss(weight, learning_rate, gradient):\n",
    "    return weight - learning_rate * gradient"
   ]
  }
 ],
 "metadata": {
  "kernelspec": {
   "display_name": "Python 3",
   "language": "python",
   "name": "python3"
  },
  "language_info": {
   "codemirror_mode": {
    "name": "ipython",
    "version": 3
   },
   "file_extension": ".py",
   "mimetype": "text/x-python",
   "name": "python",
   "nbconvert_exporter": "python",
   "pygments_lexer": "ipython3",
   "version": "3.7.1"
  }
 },
 "nbformat": 4,
 "nbformat_minor": 2
}
